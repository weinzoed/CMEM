{
 "cells": [
  {
   "cell_type": "markdown",
   "metadata": {},
   "source": [
    "# Introduction to Jupyter Notebooks #\n",
    "This is a brief introduction to the basic functionalities of Jupyter Notebooks."
   ]
  },
  {
   "cell_type": "markdown",
   "metadata": {},
   "source": [
    "Jupyter Notebooks consist of programming code, which is divided into interactive, independently executable cells. This allows the interpolation of text explanations, as this one, thus enhancing the understandability, and reproducibility of the code.\n",
    "\n",
    "To execute one cell, for example, the next one, select it by clicking on it (it will be surrounded by a green border) and click the \"Run\" button on the top menu.\n",
    "\n",
    "<img src=\"./img/run.png\" style=\"height:2.5em;\">\n",
    "\n",
    "You can also press `Ctrl + Enter` in Windows, or `⌘ + Enter` in Mac.\n",
    "\n",
    "Try it out!"
   ]
  },
  {
   "cell_type": "code",
   "execution_count": null,
   "metadata": {},
   "outputs": [],
   "source": [
    "print(\"Hello world!\")"
   ]
  },
  {
   "cell_type": "markdown",
   "metadata": {},
   "source": [
    "The output of the code contained in the cell is returned underneath it. So, you should have got a `Hello world!` message under the cell."
   ]
  },
  {
   "cell_type": "markdown",
   "metadata": {},
   "source": [
    "You might have also noticed that a number one (`[1]`) appeared in the square brackets at the left side of the cell. Every time you run a cell, a number will appear in those square brackets indicating the order in which the cells have been run. If the square bracktes are empty (`[ ]`), you can now that the corresponding cell has not been executed yet.\n",
    "\n",
    "Why is this useful? Even though the code is divided into cells, a Juptyer Notebook contains a full script of code, and as with any script, it is executed sequentially. Let's take for example the next two cells. Try to run first the second one:<br>\n",
    "`print(\"{} is {} years old.\".format(name, 2020 - birth))`\n",
    "\n",
    "You should have got a `NameError` saying that `name 'name' is not defined`. That means that you are trying to use a variable with the name `name` that does not exist.\n",
    "\n",
    "The assignment of the variable `name` is contained in the first of the next two cells, but since you didn't run it, the code in that cell was not executed, and therefore the variable was not defined.\n",
    "\n",
    "Now, run the first of the next two cells, and then run again the second one (pay attention to the numbers in the brackets)."
   ]
  },
  {
   "cell_type": "code",
   "execution_count": 7,
   "metadata": {},
   "outputs": [
    {
     "name": "stdout",
     "output_type": "stream",
     "text": [
      "James was born in 1991.\n"
     ]
    }
   ],
   "source": [
    "name = \"James\"\n",
    "birth = 1991\n",
    "age=2020 - birth\n",
    "\n",
    "print(\"{} was born in {}.\".format(name, birth))"
   ]
  },
  {
   "cell_type": "code",
   "execution_count": 8,
   "metadata": {},
   "outputs": [
    {
     "name": "stdout",
     "output_type": "stream",
     "text": [
      "James is 29 years old.\n"
     ]
    }
   ],
   "source": [
    "\n",
    "print(\"{} is {} years old.\".format(name, age))"
   ]
  },
  {
   "cell_type": "markdown",
   "metadata": {},
   "source": [
    "Now it should have worked!\n",
    "\n",
    "You can re-run any cell as many times as you want, in order to make the adjustements that you need. Let's try that. In the first of the previous two cells assign a different value to the variables, for example, John (`name = \"John\"`) and 1989 (`birth = 1989`). Now run that cell.\n",
    "\n",
    "The new output should be `John was born in 1989.` However, the output of the following cell should still be `James is 29 years old.` (Notice that the number in its squeare brackets should be lower than the previous one, indicating that it is behind that one.) To update this output you need to run this cell again.\n",
    "\n",
    "This possibility of re-running cells has obvious advantages. But sometimes, especially with long, complex scripts of code, you might loose track of changes you made, and the script might start giving errors. In that case, you can re-start the code. To do that, go to `Kernel` in the top menu, and select `Restart & Clear Output`. A pop-up message will appear asking for confirmation. Select `Restart and Clear All Outputs`. By doing this, you will never loose any of the code you wrote in the cells. What happens is that the outputs disappear, as if the code was never run. In fact, you will see that the square brackets for all cells become empty. Now, you can start running your code afresh from the beginning."
   ]
  },
  {
   "cell_type": "markdown",
   "metadata": {},
   "source": [
    "## Exercises\n",
    "Now is your turn! You have here three very simple exercises, mostly for you to try out the Notebook.\n",
    "\n",
    "\\[**Note**: if you did `Restart & Cear Output` previously, you need to run the previous cells, in order to define the variables that will be used in the following cells.\\]"
   ]
  },
  {
   "cell_type": "markdown",
   "metadata": {},
   "source": [
    "### Exercise 1\n",
    "Complete the code in the following cell in order to print a message with how many years after Beethoven (1770 - 1827) our character was born.\n",
    "\n",
    "⇒ Hint: you should fill the parenthesis after `.format( )`"
   ]
  },
  {
   "cell_type": "code",
   "execution_count": 11,
   "metadata": {},
   "outputs": [
    {
     "name": "stdout",
     "output_type": "stream",
     "text": [
      "James was born 221 years after Beethoven.\n"
     ]
    }
   ],
   "source": [
    "print(\"{} was born {} years after Beethoven.\".format(name,birth-1770))"
   ]
  },
  {
   "cell_type": "markdown",
   "metadata": {},
   "source": [
    "### Exercise 2\n",
    "Now let's calculate how old our character is in lunar years, and \"dog years.\" A [lunar year](https://en.wikipedia.org/wiki/Lunar_calendar) is 354 days long. So, in order to (roughly) convert solar years into lunar years, they can be multiplied by 1.03. As for dog years, I alwas heard that one human year is like seven dog years, but if you think, or know, differently, you can change the operation in the code.\n",
    "\n",
    "In both cases, we will need to convert our character's age. So, define a variable `age` and use it in the following statements.\n",
    "\n",
    "⇒ Optional: we used our character's age previously. If you want, try to define this variable before (i.e., in a previous cell), and use it for all cases when it is needed."
   ]
  },
  {
   "cell_type": "code",
   "execution_count": 12,
   "metadata": {},
   "outputs": [
    {
     "name": "stdout",
     "output_type": "stream",
     "text": [
      "In lunar years, James is 29.87 years old.\n",
      "If James were a dog, he would be 4.14 years old.\n"
     ]
    }
   ],
   "source": [
    "print(\"In lunar years, {} is {} years old.\".format(name, age * 1.03))\n",
    "print(\"If {} were a dog, he would be {:.2f} years old.\".format(name, age / 7))"
   ]
  },
  {
   "cell_type": "markdown",
   "metadata": {},
   "source": [
    "### Exercise 3\n",
    "And now, all yours! Print a message with the age of our character if s/he were a Martian. [Timekeeping on Mars](https://en.wikipedia.org/wiki/Timekeeping_on_Mars) is quite complicated, but for the sake of this exercise, let's assume that one Martian year is 686.98 Earth solar days long. Therefore, to convert Earth solar years into Martian years, you can divide them by 1.88.\n",
    "\n",
    "⇒ Optional: try to limit the number of decimals to two positions. You have how to do it in the previous cell."
   ]
  },
  {
   "cell_type": "code",
   "execution_count": 13,
   "metadata": {},
   "outputs": [
    {
     "name": "stdout",
     "output_type": "stream",
     "text": [
      "If James were a Martian, he would be 15.43 years old.\n"
     ]
    }
   ],
   "source": [
    "print(\"If {} were a Martian, he would be {:.2f} years old.\".format(name,age/1.88))"
   ]
  },
  {
   "cell_type": "markdown",
   "metadata": {},
   "source": [
    "## Saving and closing\n",
    "You can be saving your work regularly by going to the `File` menu and selecting `Save and Checkpoint`, or by clicking its curresponding button.\n",
    "\n",
    "<img src=\"./img/save.png\" style=\"height:2.5em;\">\n",
    "\n",
    "When you are done, save your work, and close the current tab. Then, you can click on the `Quit` button in the notebook dashboard. Close the tab, and if you don't need it further, also the terminal.\n",
    "\n",
    "<img src=\"./img/quit.png\" style=\"height:19em;\">"
   ]
  }
 ],
 "metadata": {
  "kernelspec": {
   "display_name": "Python 3",
   "language": "python",
   "name": "python3"
  },
  "language_info": {
   "codemirror_mode": {
    "name": "ipython",
    "version": 3
   },
   "file_extension": ".py",
   "mimetype": "text/x-python",
   "name": "python",
   "nbconvert_exporter": "python",
   "pygments_lexer": "ipython3",
   "version": "3.8.1"
  }
 },
 "nbformat": 4,
 "nbformat_minor": 2
}
