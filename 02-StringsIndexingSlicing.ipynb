{
 "cells": [
  {
   "cell_type": "markdown",
   "metadata": {},
   "source": [
    "# Strings, indexing and slicing\n",
    "This notebook introduces the basic properties of Python strings, as well as the basics for working with indexes, especially for slicing strings."
   ]
  },
  {
   "cell_type": "markdown",
   "metadata": {},
   "source": [
    "Before starting with the main content of this notebook, let's introduce the concept of **comments**.\n",
    "\n",
    "Everything written to the right of an asterisk (`#`) is ignored when the code is executed:"
   ]
  },
  {
   "cell_type": "code",
   "execution_count": 1,
   "metadata": {},
   "outputs": [
    {
     "name": "stdout",
     "output_type": "stream",
     "text": [
      "Hello world!\n"
     ]
    }
   ],
   "source": [
    "# print('Hello sunshine!')\n",
    "# print('Hello mom and dad!')\n",
    "print('Hello world!')\n",
    "# print('Good buy!')"
   ]
  },
  {
   "cell_type": "markdown",
   "metadata": {},
   "source": [
    "Comments are generally used to introduce explanations within the code, or to prevent part of the code (maybe because it returns some error) to be executed."
   ]
  },
  {
   "cell_type": "code",
   "execution_count": 2,
   "metadata": {},
   "outputs": [
    {
     "name": "stdout",
     "output_type": "stream",
     "text": [
      "James was born in 1991\n",
      "James is 29 years old.\n",
      "In lunar years, James is 29.87 years old.\n",
      "If James were Martian, he would be 15.43 years old.\n"
     ]
    }
   ],
   "source": [
    "# This code prints different ages of a given person\n",
    "\n",
    "# First, the name and date of birth of a person are assigned to variables\n",
    "name = \"James\" # This variable keeps the first name\n",
    "birth = 1991   # This variable keeps the year of birth\n",
    "\n",
    "# Second, the current age of the given person is assigned to a new variable\n",
    "age = 2020 - birth\n",
    "\n",
    "# Printing messages\n",
    "# The first message presents the given person\n",
    "print(\"{} was born in {}\".format(name, birth))\n",
    "# The second message prints the age in Earth solar years\n",
    "print(\"{} is {} years old.\".format(name, age))\n",
    "# The third message prints the age in lunar years\n",
    "print(\"In lunar years, {} is {} years old.\".format(name, age * 1.03))\n",
    "# The fourth message prints the age in Martian years\n",
    "print(\"If {} were Martian, he would be {:.2f} years old.\".format(name, age / 1.88))"
   ]
  },
  {
   "cell_type": "markdown",
   "metadata": {},
   "source": [
    "As you see, the last `print()` statement has been commented because something is wrong and an error is returned (maybe you can spot the error and fix it).\n",
    "\n",
    "⇒ **Note**: Jupyter Notebooks help us better understand our code by coloring different elements with different colors"
   ]
  },
  {
   "cell_type": "markdown",
   "metadata": {},
   "source": [
    "## Strings\n",
    "Python works with different data types:\n",
    "- strings are text data, and are defined by quotation marks (for example, `\"Hello world!\"`)\n",
    "- integers are numbers without decimals (for example, `1991`)\n",
    "- floating points are numbers with decimals (for example, `1.88`)\n",
    "\n",
    "To know the type of a given data, the function `type()` can be used:"
   ]
  },
  {
   "cell_type": "code",
   "execution_count": 3,
   "metadata": {},
   "outputs": [
    {
     "name": "stdout",
     "output_type": "stream",
     "text": [
      "The data type of variable x is <class 'str'>\n",
      "The data type of variable y is <class 'int'>\n",
      "The data type of variable z is <class 'float'>\n"
     ]
    }
   ],
   "source": [
    "x = \"Hello world!\"\n",
    "y = 1991\n",
    "z = 1.88\n",
    "\n",
    "# To print the data type, I use the type() function within the .format() method\n",
    "print(\"The data type of variable x is {}\".format(type(x)))\n",
    "print(\"The data type of variable y is {}\".format(type(y)))\n",
    "print(\"The data type of variable z is {}\".format(type(z)))"
   ]
  },
  {
   "cell_type": "markdown",
   "metadata": {},
   "source": [
    "These data types are named after their abbreviations: `str` for strings, `int` for integers, and `float` for floating points.\n",
    "\n",
    "Conveniently, there are functions corresponding to these abbreviations, namely `str()`, `int()` and `float()`, to convert a data type to another one:"
   ]
  },
  {
   "cell_type": "code",
   "execution_count": 4,
   "metadata": {},
   "outputs": [
    {
     "name": "stdout",
     "output_type": "stream",
     "text": [
      "1991 is a <class 'str'>\n",
      "1.88 is a <class 'str'>\n",
      "\n",
      "2020 is a <class 'int'>\n",
      "12 is a <class 'int'>\n",
      "\n",
      "56.78 is a <class 'float'>\n",
      "1770.0 is a <class 'float'>\n"
     ]
    }
   ],
   "source": [
    "# Convert data to string\n",
    "v1 = str(1991)   # Convert integer to string\n",
    "v2 = str(1.88)   # Convert floating point to string\n",
    "\n",
    "print('{} is a {}'.format(v1, type(v1)))\n",
    "print('{} is a {}'.format(v2, type(v2)))\n",
    "print() # This prints an empty line for better readability\n",
    "\n",
    "# Convert data to integer\n",
    "v3 = int(\"2020\")   # Convert string to integer\n",
    "v4 = int(12.34)    # Convert floating point to integer\n",
    "\n",
    "print('{} is a {}'.format(v3, type(v3)))\n",
    "print('{} is a {}'.format(v4, type(v4)))  # Notice that when printed, the decimals are lost\n",
    "print()\n",
    "\n",
    "# Convert data to floating point\n",
    "v5 = float(\"56.78\")   # Convert string to floating point\n",
    "v6 = float(1770)      # Convert integer point to floating\n",
    "\n",
    "print('{} is a {}'.format(v5, type(v5)))\n",
    "print('{} is a {}'.format(v6, type(v6)))  # Notice that when printed, a 0 decimal is added"
   ]
  },
  {
   "cell_type": "markdown",
   "metadata": {},
   "source": [
    "For defining a string you can choose either double quotation marks `\"...\"` or single quotation marks `'...'`, as long as the opening and closing quotation marks are of the same type"
   ]
  },
  {
   "cell_type": "code",
   "execution_count": 5,
   "metadata": {},
   "outputs": [
    {
     "name": "stdout",
     "output_type": "stream",
     "text": [
      "I like double quotation marks.\n",
      "But I prefer single quotation marks.\n"
     ]
    }
   ],
   "source": [
    "print(\"I like double quotation marks.\")\n",
    "print('But I prefer single quotation marks.')"
   ]
  },
  {
   "cell_type": "markdown",
   "metadata": {},
   "source": [
    "To print quotation marks of a given type, you can enclose them within quoation marks of the other type"
   ]
  },
  {
   "cell_type": "code",
   "execution_count": 6,
   "metadata": {},
   "outputs": [
    {
     "name": "stdout",
     "output_type": "stream",
     "text": [
      "I like \"double\" quotation marks.\n",
      "But I prefer 'single' quotation marks.\n"
     ]
    }
   ],
   "source": [
    "print('I like \"double\" quotation marks.')\n",
    "print(\"But I prefer 'single' quotation marks.\")"
   ]
  },
  {
   "cell_type": "markdown",
   "metadata": {},
   "source": [
    "There are some special characters, known as **escape sequences**, always preceded by a backslash `\\`:"
   ]
  },
  {
   "cell_type": "code",
   "execution_count": 7,
   "metadata": {},
   "outputs": [
    {
     "name": "stdout",
     "output_type": "stream",
     "text": [
      "Freude, schöner Götterfunken,\n",
      "Tochter aus Elisium,\n",
      "Wir betreten feuertrunken\n",
      "Himmlische, dein Heiligthum.\n",
      "\n",
      "I start at the left margin.\n",
      "\tAnd I start eight blank spaces to the right.\n",
      "\n",
      "I like \"double\" quotation marks.\n",
      "But I prefer 'single' quotation marks.\n",
      "\n",
      "My code is saved in Documents\\CompMethEthno\\Code\n"
     ]
    }
   ],
   "source": [
    "# '\\n' is used for printing new lines\n",
    "print(\"Freude, schöner Götterfunken,\\nTochter aus Elisium,\\nWir betreten feuertrunken\\nHimmlische, dein Heiligthum.\")\n",
    "print()\n",
    "\n",
    "# '\\t' is used por tabulation\n",
    "print(\"I start at the left margin.\")\n",
    "print(\"\\tAnd I start eight blank spaces to the right.\")\n",
    "print()\n",
    "\n",
    "# \"\\\"\" and '\\'' are used for printing quotation marks of the same type that those enclosing them\n",
    "print(\"I like \\\"double\\\" quotation marks.\")\n",
    "print('But I prefer \\'single\\' quotation marks.')\n",
    "print()\n",
    "\n",
    "# '\\\\' is used for printing backslash\n",
    "print(\"My code is saved in Documents\\\\CompMethEthno\\\\Code\")"
   ]
  },
  {
   "cell_type": "markdown",
   "metadata": {},
   "source": [
    "Strings can be concatenated using the operator `+`, resulting in a new string."
   ]
  },
  {
   "cell_type": "code",
   "execution_count": 8,
   "metadata": {},
   "outputs": [
    {
     "name": "stdout",
     "output_type": "stream",
     "text": [
      "Hello Beethoven!\n"
     ]
    }
   ],
   "source": [
    "w1 = 'Beet'\n",
    "w2 = 'hoven'\n",
    "\n",
    "print('Hello ' + w1 + w2 + '!') # Notice that I added a space after 'Hello'"
   ]
  },
  {
   "cell_type": "markdown",
   "metadata": {},
   "source": [
    "Only strings can be concatenated with this method. To concatenate strings with other data types, the function `str()` can be used.\n",
    "\n",
    "⇒ **Note**: In the following cells, the variables `name` and `birth` defined in the second cell of this notebook are used. Make sure that you executed that cell."
   ]
  },
  {
   "cell_type": "code",
   "execution_count": 9,
   "metadata": {},
   "outputs": [
    {
     "name": "stdout",
     "output_type": "stream",
     "text": [
      "James was born in 1991\n"
     ]
    }
   ],
   "source": [
    "print(name + ' was born in ' + str(birth)) # Notice the spaces before and after 'was born in'"
   ]
  },
  {
   "cell_type": "markdown",
   "metadata": {},
   "source": [
    "Using the function `print()`, different elements can be printed at the same time separated by commas, resulting in an interpolated blank space. With this method, different data types can be printed in a single command."
   ]
  },
  {
   "cell_type": "code",
   "execution_count": 10,
   "metadata": {},
   "outputs": [
    {
     "name": "stdout",
     "output_type": "stream",
     "text": [
      "James 1991\n"
     ]
    }
   ],
   "source": [
    "print(name, birth)"
   ]
  },
  {
   "cell_type": "markdown",
   "metadata": {},
   "source": [
    "By now, you might have already realized that Python offers different ways for achieving the same output. Using one or the other depends on your needs, or even on your style of coding."
   ]
  },
  {
   "cell_type": "code",
   "execution_count": 11,
   "metadata": {},
   "outputs": [
    {
     "name": "stdout",
     "output_type": "stream",
     "text": [
      "James was born in 1991\n",
      "James was born in 1991\n",
      "James was born in 1991\n"
     ]
    }
   ],
   "source": [
    "print('{} was born in {}'.format(name, birth))\n",
    "print(name + ' was born in ' + str(birth))\n",
    "print(name, 'was born in', birth)      # Here the spaces are not needed, they are added for each comma"
   ]
  },
  {
   "cell_type": "markdown",
   "metadata": {},
   "source": [
    "## Indexing and slicing\n",
    "Strings are sequences of ordered characters, and the position of each character in this sequence is indexed with a number. In Python, **indexing starts at 0**. That means, that the first character of a string is in the position with index 0, the second character has index 1, and so on.\n",
    "\n",
    "For example, let's consider the string `\"Hello world\"`. The indexing of this string would be like this:\n",
    "\n",
    "|string|`H`|`e`|`l`|`l`|`o`|` `|`w`|`o`|`r`|`l`|`d`|`!`|\n",
    "|------|---|---|---|---|---|---|---|---|---|---|---|---|\n",
    "|index | 0 | 1 | 2 | 3 | 4 | 5 | 6 | 7 | 8 | 9 | 10| 11|\n",
    "\n",
    "⇒ **Note**: the quotation marks are ignored for indexing, they are just used to indicate that whatever is enclosed by them is a string.\n",
    "\n",
    "We can access the character in a given position by using its index in square brackets `[ ]` after the string"
   ]
  },
  {
   "cell_type": "code",
   "execution_count": 12,
   "metadata": {},
   "outputs": [
    {
     "name": "stdout",
     "output_type": "stream",
     "text": [
      "H\n",
      "w\n",
      "!\n"
     ]
    }
   ],
   "source": [
    "phrase = 'Hello world!'\n",
    "\n",
    "print(phrase[0])\n",
    "print(phrase[6])\n",
    "print(phrase[11])"
   ]
  },
  {
   "cell_type": "markdown",
   "metadata": {},
   "source": [
    "Indexes are also assigned in backward order, using negative numbers, in this way:\n",
    "\n",
    "|string|`H`|`e`|`l`|`l`|`o`|` `|`w`|`o`|`r`|`l`|`d`|`!`|\n",
    "|------|---|---|---|---|---|---|---|---|---|---|---|---|\n",
    "|index |-12|-11|-10| -9| -8| -7| -6| -5| -4| -3| -2| -1|"
   ]
  },
  {
   "cell_type": "code",
   "execution_count": 13,
   "metadata": {},
   "outputs": [
    {
     "name": "stdout",
     "output_type": "stream",
     "text": [
      "lol!\n"
     ]
    }
   ],
   "source": [
    "print(phrase[2] + phrase[4] + phrase[-3] + phrase[-1])"
   ]
  },
  {
   "cell_type": "markdown",
   "metadata": {},
   "source": [
    "Two indexes can be combined, separated by colon (`:`) to **slice** the given string. This slice starts in the first index, and **ends in the position previous to the second index**.\n",
    "\n",
    "So, let's say that we want to return the slice `ello` from the phrase `Hello world!`. These characteres correspond to the indexes `1`, `2`, `3` and `4`. Therefore, the indexes that we need to use for slicing are `1` and `5`, because the slice starts in the first index (`1`) and ends in the position previous to the second index (if we give `5`, it ends at `4`)."
   ]
  },
  {
   "cell_type": "code",
   "execution_count": 14,
   "metadata": {},
   "outputs": [
    {
     "name": "stdout",
     "output_type": "stream",
     "text": [
      "ello\n"
     ]
    }
   ],
   "source": [
    "print(phrase[1:5])"
   ]
  },
  {
   "cell_type": "markdown",
   "metadata": {},
   "source": [
    "When slicing, if we omit the first index, the returned slice starts from the beginning. If the second index is omitted, the slice ends at the end."
   ]
  },
  {
   "cell_type": "code",
   "execution_count": 15,
   "metadata": {},
   "outputs": [
    {
     "name": "stdout",
     "output_type": "stream",
     "text": [
      "Hello\n",
      "world!\n"
     ]
    }
   ],
   "source": [
    "# To return 'Hello'\n",
    "print(phrase[:5])\n",
    "\n",
    "# To return 'world!'\n",
    "print(phrase[6:])"
   ]
  },
  {
   "cell_type": "markdown",
   "metadata": {},
   "source": [
    "## Exercises\n",
    "### Exercise 1. Debugging\n",
    "When a code has a problem, or doesn't work properly, programmers say that it has \"bugs.\" And I can assure you that when you start coding, your code is going to have bug. So, an important task for all programmers is \"debugging,\" that is, fixing problems, correcting code. So it is good that you get used to debugging from the beginning.\n",
    "\n",
    "The following piece of code is full of bugs. It will return error messages until everything is solved. These error messages are quite cryptic, but they actually help a lot. Start reading the error messages from the last line. This last line tells you the type of error and what is the error. For example, if you run the following cell as it is, you will get a `SyntaxError` (look at the last line). Read what it tells you about that error. Then, if you read the error message from the beginning, you will find in which line the error occurred, in this case `line 5`. The error message will even try to tell you the exact position were the error is located, by copying the bugged line, and signalling the exact position with the symbol `^` underneath. These indications of the line and the exact location of the bug might not always be accurate (in fact, that is the case of this first error message), because the way the computer process the code is not exactly as we read it. But in any case, it is always good to try to get as much help as possible from these error messages.\n",
    "\n",
    "So, can you fully debug this code?"
   ]
  },
  {
   "cell_type": "code",
   "execution_count": 19,
   "metadata": {},
   "outputs": [
    {
     "name": "stdout",
     "output_type": "stream",
     "text": [
      "Mary had a little lamb,\n",
      "\tIts fleece was white as snow,\n",
      "And every where that Mary went\n",
      "\tThelambwas sure to go;\n",
      "He followed her to school one day—\n",
      "\tThat was against the rule,\n",
      "It made the children laugh and play,\n",
      "\tTo see a lamb at school.\n"
     ]
    }
   ],
   "source": [
    "animal = \"lamb\"\n",
    "\n",
    "print (\"Mary had a little {},\".format(animal))\n",
    "print (\"\\tIts fleece was white as snow,\")\n",
    "print (\"And every where that Mary went\")\n",
    "print (\"\\tThe\"  + animal + \"was sure to go;\")\n",
    "print (\"He followed her to school one day—\")\n",
    "print (\"\\tThat was against the rule,\")\n",
    "print (\"It made the children laugh and play,\")\n",
    "print (\"\\tTo see a {} at school.\".format(animal))"
   ]
  },
  {
   "cell_type": "markdown",
   "metadata": {},
   "source": [
    "### Exercise 2. More debugging\n",
    "Sorry, this code also have few bugs. Please try to debug it. Once you get the code running, read carefully the output. You might want to fix few things more."
   ]
  },
  {
   "cell_type": "code",
   "execution_count": 24,
   "metadata": {},
   "outputs": [
    {
     "name": "stdout",
     "output_type": "stream",
     "text": [
      "I have a friend called John\n",
      "He is 178 centimetres tall.\n",
      "However his friend from the USA don't understand the metric system.\n",
      "Talking to him, John is 70.08 inches tall.\n",
      "But height is usually expressed in feet.\n",
      "So name is 5.84 feet and 10.08 inches tall.\n"
     ]
    }
   ],
   "source": [
    "name = \"John\"\n",
    "height = 178\n",
    "\n",
    "print(\"I have a friend called \" + name)\n",
    "print(\"He is\", height, \"centimetres tall.\")\n",
    "print(\"However his friend from the USA don't understand the metric system.\")\n",
    "\n",
    "inches = height / 2.54\n",
    "\n",
    "print(\"Talking to him, {} is {:.2f} inches tall.\".format(name, inches))\n",
    "print('But height is usually expressed in feet.')\n",
    "print('So name is {:.2f} feet and {:.2f} inches tall.'.format(inches / 12, inches % 12))"
   ]
  },
  {
   "cell_type": "markdown",
   "metadata": {},
   "source": [
    "### Exercise 3. Let's play with slicing!\n",
    "This is just a game. You have to print the phrases I give you in comments, but **only using slices** from the given string. That is, you are not allowed to add text or characters that are not alreay present in the given string.\n",
    "\n",
    "The next cell is just an example for you to understand the exercise. You start playing in the following one."
   ]
  },
  {
   "cell_type": "code",
   "execution_count": 25,
   "metadata": {},
   "outputs": [
    {
     "name": "stdout",
     "output_type": "stream",
     "text": [
      "music\n",
      "Methodology\n",
      "My mom is cool\n"
     ]
    }
   ],
   "source": [
    "course = \"Computational Methods in Ethnomusicology\"\n",
    "\n",
    "# music\n",
    "print(course[30:-5])\n",
    "\n",
    "# Methodology\n",
    "print(course[14:20]+course[-5:])\n",
    "\n",
    "# My mom is cool\n",
    "print(course[14]+course[-1], course[2]+course[1:3], course[-7]+course[-8], course[-6:-4]+course[-5:-3])"
   ]
  },
  {
   "cell_type": "markdown",
   "metadata": {},
   "source": [
    "Now your turn!"
   ]
  },
  {
   "cell_type": "code",
   "execution_count": 82,
   "metadata": {},
   "outputs": [
    {
     "name": "stdout",
     "output_type": "stream",
     "text": [
      "pear\n",
      "velofood\n",
      "move on\n",
      "Shake the fool\n",
      "I love food (Shakespeare)\n"
     ]
    }
   ],
   "source": [
    "verse = \"If music be the food of love, play on (Shakespeare)\"\n",
    "\n",
    "# pear\n",
    "print(verse[-6:-2])\n",
    "\n",
    "# velofood\n",
    "print(verse[26:28]+verse[24:26]+verse[16:20])\n",
    "\n",
    "# move on\n",
    "print (verse[3]+verse[25:28], verse[-16:-14])\n",
    "\n",
    "# Shake the fool\n",
    "print(verse[-12:-7],  verse[12:15], verse[16:19]+verse[24])\n",
    "\n",
    "# I love food (Shakespeare)\n",
    "print(verse[0], verse[24:28],verse[16:20], verse[-13:51])"
   ]
  },
  {
   "cell_type": "code",
   "execution_count": null,
   "metadata": {},
   "outputs": [],
   "source": []
  },
  {
   "cell_type": "code",
   "execution_count": null,
   "metadata": {},
   "outputs": [],
   "source": []
  }
 ],
 "metadata": {
  "kernelspec": {
   "display_name": "Python 3",
   "language": "python",
   "name": "python3"
  },
  "language_info": {
   "codemirror_mode": {
    "name": "ipython",
    "version": 3
   },
   "file_extension": ".py",
   "mimetype": "text/x-python",
   "name": "python",
   "nbconvert_exporter": "python",
   "pygments_lexer": "ipython3",
   "version": "3.6.3"
  }
 },
 "nbformat": 4,
 "nbformat_minor": 2
}
